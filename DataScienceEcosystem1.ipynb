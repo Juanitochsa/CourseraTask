{
  "metadata": {
    "language_info": {
      "codemirror_mode": {
        "name": "python",
        "version": 3
      },
      "file_extension": ".py",
      "mimetype": "text/x-python",
      "name": "python",
      "nbconvert_exporter": "python",
      "pygments_lexer": "ipython3",
      "version": "3.8"
    },
    "kernelspec": {
      "name": "python",
      "display_name": "Python (Pyodide)",
      "language": "python"
    }
  },
  "nbformat_minor": 4,
  "nbformat": 4,
  "cells": [
    {
      "cell_type": "markdown",
      "source": "# Data Science Tools and Ecosystem",
      "metadata": {}
    },
    {
      "cell_type": "markdown",
      "source": "In this notebook, i´d to create a basic summary about science languajes and some basic calculations that can be done through this system",
      "metadata": {}
    },
    {
      "cell_type": "markdown",
      "source": "__The objective of this notebook will be to present \nA quick summary of\nLanguajes\nLibraries\nTools used\nBasic calculations",
      "metadata": {}
    },
    {
      "cell_type": "markdown",
      "source": "Some of the most popular science languajes are:\nPython\nR\nJulia\nSQL However there are a lot others that can be used.",
      "metadata": {}
    },
    {
      "cell_type": "markdown",
      "source": "At same time, so many libraries can be used to work in these languajes. Some of the most popular for Python are:\n\nNumpy\nPandas\nMatplotlib",
      "metadata": {}
    },
    {
      "cell_type": "markdown",
      "source": "And the datascience tools used to work with these languajes are:\n\nJupyter\nApache\nHadoop",
      "metadata": {}
    },
    {
      "cell_type": "code",
      "source": "### Below are some expresions that can be done in these type of calculations",
      "metadata": {
        "trusted": true
      },
      "execution_count": 2,
      "outputs": []
    },
    {
      "cell_type": "code",
      "source": "# It is a basic example how you can use aritmetic expresions here\n(3*4)+5",
      "metadata": {
        "trusted": true
      },
      "execution_count": 3,
      "outputs": [
        {
          "execution_count": 3,
          "output_type": "execute_result",
          "data": {
            "text/plain": "17"
          },
          "metadata": {}
        }
      ]
    },
    {
      "cell_type": "code",
      "source": "#It is another example to convert 200 min into hours\n200/60",
      "metadata": {
        "trusted": true
      },
      "execution_count": 4,
      "outputs": [
        {
          "execution_count": 4,
          "output_type": "execute_result",
          "data": {
            "text/plain": "3.3333333333333335"
          },
          "metadata": {}
        }
      ]
    },
    {
      "cell_type": "markdown",
      "source": "## Author: Juan Carlos Chaparro",
      "metadata": {}
    }
  ]
}